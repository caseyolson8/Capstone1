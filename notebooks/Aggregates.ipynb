{
 "cells": [
  {
   "cell_type": "code",
   "execution_count": 2,
   "metadata": {},
   "outputs": [],
   "source": [
    "import pandas as pd\n",
    "import numpy as np\n",
    "import matplotlib.pyplot as plt\n",
    "from pprint import pprint\n",
    "from datetime import datetime, timedelta\n",
    "import helper as hp\n",
    "plt.style.use('ggplot')"
   ]
  },
  {
   "cell_type": "code",
   "execution_count": 3,
   "metadata": {},
   "outputs": [],
   "source": [
    "data_path ='~/Desktop/capstone/data/Denver_1940_2010.csv'\n",
    "raw_data_df = pd.read_csv(data_path, low_memory=False)"
   ]
  },
  {
   "cell_type": "code",
   "execution_count": 5,
   "metadata": {},
   "outputs": [],
   "source": [
    "#raw_data_df"
   ]
  },
  {
   "cell_type": "code",
   "execution_count": 16,
   "metadata": {},
   "outputs": [],
   "source": [
    "## Create some yearly aggregates\n",
    "dates_r = hp.grab_datetime(raw_data_df)\n",
    "def create_data_object(col_name = 'PRCP'):\n",
    "    col_data = hp.grab_col_data(raw_data_df, col_name)\n",
    "    data = hp.GHCN_Data(col_data, dates_r, *hp.trim_col_data(col_data))\n",
    "    data.set_data_by_year()\n",
    "    return data"
   ]
  },
  {
   "cell_type": "code",
   "execution_count": 17,
   "metadata": {},
   "outputs": [],
   "source": [
    "TMAX = create_data_object('TMAX')"
   ]
  },
  {
   "cell_type": "code",
   "execution_count": 23,
   "metadata": {},
   "outputs": [
    {
     "data": {
      "text/plain": [
       "array([63.27595628, 63.24657534, 64.81917808, 61.53972603, 64.5136612 ,\n",
       "       65.3369863 , 67.89589041, 63.94246575, 65.17759563, 62.78356164,\n",
       "       64.32328767, 63.26027397, 63.36338798, 62.44383562, 64.73150685,\n",
       "       65.91780822, 64.29234973, 63.63013699, 65.72054795, 64.11232877,\n",
       "       63.7431694 , 63.6       , 64.65479452, 64.50410959, 64.28961749,\n",
       "       63.61369863, 65.35342466, 64.14520548, 65.23224044, 66.68493151,\n",
       "       63.44109589, 62.65479452, 65.31693989, 67.44383562, 62.55616438,\n",
       "       60.54520548, 61.99726776, 62.14246575, 65.67671233, 64.69315068,\n",
       "       65.3579235 , 64.65205479, 65.21369863, 64.81917808, 64.83060109,\n",
       "       63.11506849, 67.72328767, 63.61643836, 65.21584699, 63.01369863,\n",
       "       64.78082192, 66.23013699, 65.85519126, 65.60164835, 65.77260274,\n",
       "       65.92054795, 64.43442623, 65.52328767, 65.71506849, 64.51232877,\n",
       "       64.17759563, 62.08383234, 65.09315068, 63.95068493, 68.13387978,\n",
       "       63.52747253, 64.36740331, 65.09065934, 67.5273224 , 67.99726027,\n",
       "       66.52328767, 63.65205479, 70.62886598])"
      ]
     },
     "execution_count": 23,
     "metadata": {},
     "output_type": "execute_result"
    }
   ],
   "source": [
    "TMAX.data_yr.mean().values[1:]"
   ]
  },
  {
   "cell_type": "code",
   "execution_count": null,
   "metadata": {},
   "outputs": [],
   "source": []
  }
 ],
 "metadata": {
  "kernelspec": {
   "display_name": "Python 3",
   "language": "python",
   "name": "python3"
  },
  "language_info": {
   "codemirror_mode": {
    "name": "ipython",
    "version": 3
   },
   "file_extension": ".py",
   "mimetype": "text/x-python",
   "name": "python",
   "nbconvert_exporter": "python",
   "pygments_lexer": "ipython3",
   "version": "3.7.9"
  }
 },
 "nbformat": 4,
 "nbformat_minor": 4
}
