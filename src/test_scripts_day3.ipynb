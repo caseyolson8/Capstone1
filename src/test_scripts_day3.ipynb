{
 "cells": [
  {
   "cell_type": "code",
   "execution_count": 3,
   "metadata": {},
   "outputs": [],
   "source": [
    "import pandas as pd\n",
    "import numpy as np\n",
    "import matplotlib.pyplot as plt\n",
    "from pprint import pprint\n",
    "from datetime import datetime, timedelta\n",
    "import helper as hp\n",
    "plt.style.use('ggplot')"
   ]
  },
  {
   "cell_type": "code",
   "execution_count": 152,
   "metadata": {},
   "outputs": [
    {
     "name": "stdout",
     "output_type": "stream",
     "text": [
      "Index(['STATION', 'NAME', 'DATE', 'ACMH', 'ACMH_ATTRIBUTES', 'ACSH',\n",
      "       'ACSH_ATTRIBUTES', 'AWND', 'AWND_ATTRIBUTES', 'FMTM', 'FMTM_ATTRIBUTES',\n",
      "       'PGTM', 'PGTM_ATTRIBUTES', 'PRCP', 'PRCP_ATTRIBUTES', 'PSUN',\n",
      "       'PSUN_ATTRIBUTES', 'SNOW', 'SNOW_ATTRIBUTES', 'SNWD', 'SNWD_ATTRIBUTES',\n",
      "       'TAVG', 'TAVG_ATTRIBUTES', 'TMAX', 'TMAX_ATTRIBUTES', 'TMIN',\n",
      "       'TMIN_ATTRIBUTES', 'TOBS', 'TOBS_ATTRIBUTES', 'TSUN', 'TSUN_ATTRIBUTES',\n",
      "       'WDF1', 'WDF1_ATTRIBUTES', 'WDFG', 'WDFG_ATTRIBUTES', 'WDFM',\n",
      "       'WDFM_ATTRIBUTES', 'WESD', 'WESD_ATTRIBUTES', 'WSF1', 'WSF1_ATTRIBUTES',\n",
      "       'WSFG', 'WSFG_ATTRIBUTES', 'WSFM', 'WSFM_ATTRIBUTES', 'WT01',\n",
      "       'WT01_ATTRIBUTES', 'WT02', 'WT02_ATTRIBUTES', 'WT03', 'WT03_ATTRIBUTES',\n",
      "       'WT04', 'WT04_ATTRIBUTES', 'WT05', 'WT05_ATTRIBUTES', 'WT06',\n",
      "       'WT06_ATTRIBUTES', 'WT07', 'WT07_ATTRIBUTES', 'WT08', 'WT08_ATTRIBUTES',\n",
      "       'WT09', 'WT09_ATTRIBUTES', 'WT10', 'WT10_ATTRIBUTES', 'WT11',\n",
      "       'WT11_ATTRIBUTES', 'WT14', 'WT14_ATTRIBUTES', 'WT15', 'WT15_ATTRIBUTES',\n",
      "       'WT16', 'WT16_ATTRIBUTES', 'WT18', 'WT18_ATTRIBUTES'],\n",
      "      dtype='object')\n"
     ]
    }
   ],
   "source": [
    "### Import Data to dataframe\n",
    "data_path ='~/Desktop/capstone/data/Denver_1940_2010.csv'\n",
    "raw_data_df = pd.read_csv(data_path, low_memory=False)\n",
    "pprint(raw_data_df.columns)"
   ]
  },
  {
   "cell_type": "code",
   "execution_count": 153,
   "metadata": {},
   "outputs": [],
   "source": [
    "### Grab raw data columns\n",
    "dates_r = hp.grab_datetime(raw_data_df)\n",
    "PRCP_r = hp.grab_col_data(raw_data_df, 'PRCP')\n",
    "TMAX_r = hp.grab_col_data(raw_data_df, 'TMAX')\n",
    "TMIN_r = hp.grab_col_data(raw_data_df, 'TMIN')\n",
    "SNWD_r = hp.grab_col_data(raw_data_df, 'SNWD')\n",
    "SNOW_r = hp.grab_col_data(raw_data_df, 'SNOW')\n",
    "WT16_r = hp.grab_col_data(raw_data_df, 'WT16')"
   ]
  },
  {
   "cell_type": "code",
   "execution_count": 155,
   "metadata": {},
   "outputs": [],
   "source": [
    "###\n",
    "PRCP_d = hp.GHCN_Data(PRCP_r, dates_r, *hp.trim_col_data(PRCP_r))\n",
    "TMAX_d = hp.GHCN_Data(TMAX_r, dates_r, *hp.trim_col_data(TMAX_r))\n",
    "TMIN_d = hp.GHCN_Data(TMIN_r, dates_r, *hp.trim_col_data(TMIN_r))\n",
    "SNWD_d = hp.GHCN_Data(SNWD_r, dates_r, *hp.trim_col_data(SNWD_r))\n",
    "SNOW_d = hp.GHCN_Data(SNOW_r, dates_r, *hp.trim_col_data(SNOW_r))\n",
    "WT16_d = hp.GHCN_Data(WT16_r, dates_r, *hp.trim_col_data(WT16_r))\n",
    "TMAX_d.set_data_by_year()\n",
    "TMIN_d.set_data_by_year()\n",
    "PRCP_d.set_data_by_year()\n",
    "SNWD_d.set_data_by_year()\n",
    "SNOW_d.set_data_by_year()\n",
    "WT16_d.set_data_by_year()"
   ]
  },
  {
   "cell_type": "code",
   "execution_count": 88,
   "metadata": {},
   "outputs": [],
   "source": [
    "def data_year_avg(ax, df, years, aggfx=np.nanmean):\n",
    "    year_avg = []\n",
    "    for year in years:\n",
    "        year_avg.append(aggfx(df[year].values))\n",
    "    ax.scatter(years, year_avg)\n",
    "    return year_avg\n",
    "\n",
    "def data_winter_avg(ax, df, years, aggfx=np.nanmean):\n",
    "    winter_avg = []\n",
    "    for year in years[1:]:\n",
    "        avg = list(df[df['Month_id']==12][year-1].values)\n",
    "        avg.extend(list(df[df['Month_id'].isin([1, 2])][year].values))\n",
    "        winter_avg.append(aggfx(avg))\n",
    "    ax.scatter(years[1:], winter_avg)\n",
    "    return winter_avg"
   ]
  },
  {
   "cell_type": "code",
   "execution_count": 21,
   "metadata": {},
   "outputs": [],
   "source": [
    "### Get Aggregates for each year\n",
    "yrs = list(range(TMAX_d.startyr,TMAX_d.endyr))\n",
    "\n",
    "winter_avg = data_winter_avg(4, TMAX_d.data_yr, yrs)\n",
    "year_avg = data_year_avg(4, TMAX_d.data_yr, yrs)\n"
   ]
  },
  {
   "cell_type": "code",
   "execution_count": 22,
   "metadata": {},
   "outputs": [],
   "source": [
    "from statsmodels.regression.linear_model import OLS"
   ]
  },
  {
   "cell_type": "code",
   "execution_count": 56,
   "metadata": {},
   "outputs": [],
   "source": [
    "Y = winter_avg\n",
    "X = np.ones((len(yrs),2))\n",
    "X[:,0] = yrs\n",
    "model = OLS(Y, X[1:,:])\n",
    "results = model.fit()\n",
    "wtr_params = results.params"
   ]
  },
  {
   "cell_type": "code",
   "execution_count": 70,
   "metadata": {},
   "outputs": [],
   "source": [
    "Y = year_avg\n",
    "X = np.ones((len(yrs),2))\n",
    "X[:,0] = yrs\n",
    "model = OLS(Y, X)\n",
    "results = model.fit()\n",
    "yr_params = results.params"
   ]
  },
  {
   "cell_type": "code",
   "execution_count": 84,
   "metadata": {},
   "outputs": [
    {
     "name": "stdout",
     "output_type": "stream",
     "text": [
      "                             Test for Constraints                             \n",
      "==============================================================================\n",
      "                 coef    std err          z      P>|z|      [0.025      0.975]\n",
      "------------------------------------------------------------------------------\n",
      "c0             0.0208      0.008      2.447      0.014       0.004       0.037\n",
      "==============================================================================\n"
     ]
    }
   ],
   "source": [
    "print(results.t_test([1, 0], use_t=False))  #use_t = False for a normal distribtion model"
   ]
  },
  {
   "cell_type": "code",
   "execution_count": 87,
   "metadata": {},
   "outputs": [
    {
     "name": "stdout",
     "output_type": "stream",
     "text": [
      "                             Test for Constraints                             \n",
      "==============================================================================\n",
      "                 coef    std err          t      P>|t|      [0.025      0.975]\n",
      "------------------------------------------------------------------------------\n",
      "c0             0.0208      0.008      2.447      0.017       0.004       0.038\n",
      "==============================================================================\n"
     ]
    }
   ],
   "source": []
  },
  {
   "cell_type": "code",
   "execution_count": 75,
   "metadata": {},
   "outputs": [
    {
     "name": "stderr",
     "output_type": "stream",
     "text": [
      "No handles with labels found to put in legend.\n",
      "No handles with labels found to put in legend.\n"
     ]
    },
    {
     "data": {
      "image/png": "[encoded data removed]",
      "text/plain": [
       "<Figure size 1080x720 with 1 Axes>"
      ]
     },
     "metadata": {},
     "output_type": "display_data"
    }
   ],
   "source": [
    "fig, ax = plt.subplots(1, figsize=(15,10))\n",
    "r = list(range(TMAX_d.startyr,TMAX_d.endyr))\n",
    "\n",
    "data_year_avg(ax, TMAX_d.data_yr, r) #, aggfx=np.nanmean)\n",
    "\n",
    "X_mdl = np.linspace(1950,2020,100)\n",
    "Y_mdl = X_mdl*yr_params[0] + yr_params[1]\n",
    "ax.plot(X_mdl, Y_mdl)\n",
    "\n",
    "ax.legend();\n",
    "ax.legend();"
   ]
  },
  {
   "cell_type": "code",
   "execution_count": 69,
   "metadata": {},
   "outputs": [
    {
     "name": "stderr",
     "output_type": "stream",
     "text": [
      "No handles with labels found to put in legend.\n"
     ]
    },
    {
     "data": {
      "image/png": "[encoded data removed]",
      "text/plain": [
       "<Figure size 1080x720 with 1 Axes>"
      ]
     },
     "metadata": {},
     "output_type": "display_data"
    }
   ],
   "source": [
    "fig, ax = plt.subplots(1, figsize=(15,10))\n",
    "r = list(range(TMAX_d.startyr,TMAX_d.endyr))\n",
    "\n",
    "data_winter_avg(ax, TMAX_d.data_yr, r) #, aggfx=np.nanmean)\n",
    "\n",
    "X_mdl = np.linspace(1950,2020,100)\n",
    "Y_mdl = X_mdl*wtr_params[0] + wtr_params[1]\n",
    "ax.plot(X_mdl, Y_mdl)\n",
    "\n",
    "ax.legend();"
   ]
  },
  {
   "cell_type": "code",
   "execution_count": 99,
   "metadata": {},
   "outputs": [
    {
     "name": "stderr",
     "output_type": "stream",
     "text": [
      "No handles with labels found to put in legend.\n",
      "No handles with labels found to put in legend.\n"
     ]
    },
    {
     "data": {
      "image/png": "[encoded data removed]",
      "text/plain": [
       "<Figure size 1080x720 with 1 Axes>"
      ]
     },
     "metadata": {},
     "output_type": "display_data"
    }
   ],
   "source": [
    "fig, ax = plt.subplots(1, figsize=(15,10))\n",
    "yrs = list(range(TMAX_d.startyr,TMAX_d.endyr))\n",
    "\n",
    "# Y = data_year_avg(ax, PRCP_d.data_yr, r, aggfx=np.nansum)\n",
    "Y = data_year_avg(ax, TMIN_d.data_yr, r)\n",
    "\n",
    "X = np.ones((len(yrs),2))\n",
    "X[:,0] = yrs\n",
    "model = OLS(Y, X)\n",
    "results = model.fit()\n",
    "params = results.params\n",
    "\n",
    "\n",
    "X_mdl = np.linspace(1950,2020,100)\n",
    "Y_mdl = X_mdl*params[0] + params[1]\n",
    "ax.plot(X_mdl, Y_mdl)\n",
    "\n",
    "ax.legend();\n",
    "ax.legend();"
   ]
  },
  {
   "cell_type": "code",
   "execution_count": 100,
   "metadata": {},
   "outputs": [
    {
     "data": {
      "text/plain": [
       "<class 'statsmodels.stats.contrast.ContrastResults'>\n",
       "                             Test for Constraints                             \n",
       "==============================================================================\n",
       "                 coef    std err          t      P>|t|      [0.025      0.975]\n",
       "------------------------------------------------------------------------------\n",
       "c0             0.0130      0.007      1.737      0.087      -0.002       0.028\n",
       "=============================================================================="
      ]
     },
     "execution_count": 100,
     "metadata": {},
     "output_type": "execute_result"
    }
   ],
   "source": [
    "results.t_test([1, 0])"
   ]
  },
  {
   "cell_type": "code",
   "execution_count": null,
   "metadata": {},
   "outputs": [],
   "source": []
  },
  {
   "cell_type": "code",
   "execution_count": 223,
   "metadata": {},
   "outputs": [
    {
     "name": "stderr",
     "output_type": "stream",
     "text": [
      "No handles with labels found to put in legend.\n"
     ]
    },
    {
     "data": {
      "image/png": "[encoded data removed]",
      "text/plain": [
       "<Figure size 1080x720 with 1 Axes>"
      ]
     },
     "metadata": {},
     "output_type": "display_data"
    }
   ],
   "source": [
    "def count_non_zero(arr):\n",
    "    return sum(arr>0.0)\n",
    "\n",
    "df = PRCP_d\n",
    "fig, ax = plt.subplots(1, figsize=(15,10))\n",
    "yrs = list(range(df.startyr,2020))\n",
    "\n",
    "Y = data_year_avg(ax, df.data_yr, yrs, aggfx=np.nansum)\n",
    "#Y = data_year_avg(ax, TMIN_d.data_yr, r)\n",
    "\n",
    "X = np.ones((len(yrs),2))\n",
    "X[:,0] = yrs\n",
    "model = OLS(Y, X)\n",
    "results = model.fit()\n",
    "params = results.params\n",
    "\n",
    "\n",
    "X_mdl = np.linspace(1950,2020,100)\n",
    "Y_mdl = X_mdl*params[0] + params[1]\n",
    "ax.plot(X_mdl, Y_mdl)\n",
    "\n",
    "ax.legend();"
   ]
  },
  {
   "cell_type": "code",
   "execution_count": 227,
   "metadata": {},
   "outputs": [
    {
     "data": {
      "text/plain": [
       "<class 'statsmodels.stats.contrast.ContrastResults'>\n",
       "                             Test for Constraints                             \n",
       "==============================================================================\n",
       "                 coef    std err          z      P>|z|      [0.025      0.975]\n",
       "------------------------------------------------------------------------------\n",
       "c0             0.0024      0.023      0.105      0.916      -0.043       0.048\n",
       "=============================================================================="
      ]
     },
     "execution_count": 227,
     "metadata": {},
     "output_type": "execute_result"
    }
   ],
   "source": [
    "A = results.t_test([1, 0], use_t=False)\n",
    "A"
   ]
  },
  {
   "cell_type": "code",
   "execution_count": 231,
   "metadata": {},
   "outputs": [
    {
     "data": {
      "text/plain": [
       "'norm'"
      ]
     },
     "execution_count": 231,
     "metadata": {},
     "output_type": "execute_result"
    }
   ],
   "source": [
    "A."
   ]
  },
  {
   "cell_type": "code",
   "execution_count": 237,
   "metadata": {},
   "outputs": [],
   "source": [
    "CI = results.conf_int(alpha=0.05, cols=None)[0]"
   ]
  },
  {
   "cell_type": "code",
   "execution_count": 244,
   "metadata": {},
   "outputs": [],
   "source": [
    "mdl_label = 'Fit Line, slope CI:[{:.4f},{:.4f}] @ p = {:.4f}'.format(CI[0], CI[1], 0.05)"
   ]
  },
  {
   "cell_type": "code",
   "execution_count": 252,
   "metadata": {},
   "outputs": [
    {
     "data": {
      "text/plain": [
       "'0.05'"
      ]
     },
     "execution_count": 252,
     "metadata": {},
     "output_type": "execute_result"
    }
   ],
   "source": [
    "\"{:.4f}\".format(0.05).rstrip('0')"
   ]
  },
  {
   "cell_type": "code",
   "execution_count": 246,
   "metadata": {},
   "outputs": [
    {
     "data": {
      "text/plain": [
       "'Fit Line, slope CI:[-0.0435,0.0483] @ p = 0.0500'"
      ]
     },
     "execution_count": 246,
     "metadata": {},
     "output_type": "execute_result"
    }
   ],
   "source": [
    "mdl_label"
   ]
  },
  {
   "cell_type": "code",
   "execution_count": null,
   "metadata": {},
   "outputs": [],
   "source": []
  }
 ],
 "metadata": {
  "kernelspec": {
   "display_name": "Python 3",
   "language": "python",
   "name": "python3"
  },
  "language_info": {
   "codemirror_mode": {
    "name": "ipython",
    "version": 3
   },
   "file_extension": ".py",
   "mimetype": "text/x-python",
   "name": "python",
   "nbconvert_exporter": "python",
   "pygments_lexer": "ipython3",
   "version": "3.7.9"
  }
 },
 "nbformat": 4,
 "nbformat_minor": 4
}
